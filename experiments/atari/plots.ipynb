{
 "cells": [
  {
   "cell_type": "code",
   "execution_count": null,
   "metadata": {},
   "outputs": [],
   "source": [
    "%load_ext autoreload\n",
    "%autoreload 2\n",
    "\n",
    "import numpy as np\n",
    "from experiments.atari import EXPERIMENTED_GAME\n",
    "\n",
    "experiments = [\"ut30_uh6000\"]\n",
    "baselines = ['IQN', 'Rainbow', 'REM', 'DQN (Adam)', 'C51', 'DQN (Nature)']\n",
    "baselines_performance_profile = ['IQN', 'REM', 'DQN (Adam)']\n",
    "games = EXPERIMENTED_GAME\n",
    "ks = [5]\n",
    "seeds = [11, 21]\n",
    "plot_std = True\n",
    "selected_epochs = np.array([1, 10, 25, 50, 75, 100, 125, 150, 175, 200]) - 1\n",
    "taus = np.linspace(0.0, 8.0, 81)"
   ]
  },
  {
   "attachments": {},
   "cell_type": "markdown",
   "metadata": {},
   "source": [
    "### Extract data"
   ]
  },
  {
   "cell_type": "code",
   "execution_count": null,
   "metadata": {},
   "outputs": [],
   "source": [
    "from idqn.utils.baselines_scores import get_baselines_scores\n",
    "\n",
    "idqn_scores = {}\n",
    "for experiment in experiments:\n",
    "    for k in ks:\n",
    "        idqn_scores[f\"{experiment}_{k}\"] = {}\n",
    "        for game in games:\n",
    "            idqn_scores[f\"{experiment}_{k}\"][game] = np.zeros((200, len(seeds))) * np.nan\n",
    "            for idx_seed, seed in enumerate(seeds):\n",
    "                idqn_scores[f\"{experiment}_{k}\"][game][:, idx_seed] = np.load(f\"figures/{experiment}/{game}/iDQN/{k}_J_{seed}.npy\")\n",
    "\n",
    "baselines_scores = get_baselines_scores(baselines, games)"
   ]
  },
  {
   "cell_type": "code",
   "execution_count": null,
   "metadata": {},
   "outputs": [],
   "source": [
    "import matplotlib.pyplot as plt\n",
    "from idqn.utils.process_scores import compute_iqm_and_confidence_interval\n",
    "\n",
    "plt.rc(\"font\", size=15)\n",
    "plt.rc(\"lines\", linewidth=3)\n",
    "\n",
    "\n",
    "for experiment in experiments:\n",
    "    for k in ks:\n",
    "\n",
    "        iqms, iqms_confidence_interval = compute_iqm_and_confidence_interval(idqn_scores[f\"{experiment}_{k}\"], selected_epochs)\n",
    "        plt.plot(selected_epochs + 1, iqms, label=f\"iDQN {experiment} K={k}\")\n",
    "        if plot_std:\n",
    "            plt.fill_between(selected_epochs + 1, iqms_confidence_interval[0, :], iqms_confidence_interval[1, :], alpha=0.3)\n",
    "\n",
    "for baseline in baselines:\n",
    "    iqms, iqms_confidence_interval = compute_iqm_and_confidence_interval(baselines_scores[baseline], selected_epochs)\n",
    "    plt.plot(selected_epochs + 1, iqms, label=baseline)\n",
    "    if plot_std:\n",
    "        plt.fill_between(selected_epochs + 1, iqms_confidence_interval[0, :], iqms_confidence_interval[1, :], alpha=0.3)\n",
    "\n",
    "plt.grid()\n",
    "plt.xlabel(\"Number of Frames (in millions)\")\n",
    "plt.ylabel(\"IQM Human Normalized Score\")\n",
    "if len(games) == 1 and len(experiments) > 0:\n",
    "    plt.legend(bbox_to_anchor=[1, 1])\n",
    "    plt.title(games[0])\n",
    "    _ = plt.savefig(f\"figures/{experiments[0]}/{games[0]}/J.pdf\", bbox_inches='tight')\n",
    "elif len(experiments) > 0:\n",
    "    plt.legend(ncols=len(baselines) + len(experiments) * len(ks), bbox_to_anchor=[1, 1])\n",
    "    _ = plt.savefig(f\"figures/{experiments[0]}/J.pdf\", bbox_inches='tight')"
   ]
  },
  {
   "cell_type": "code",
   "execution_count": null,
   "metadata": {},
   "outputs": [],
   "source": [
    "import matplotlib.pyplot as plt\n",
    "from idqn.utils.process_scores import compute_performance_profile_and_confidence_interval\n",
    "\n",
    "plt.rc(\"font\", size=15)\n",
    "plt.rc(\"lines\", linewidth=3)\n",
    "\n",
    "\n",
    "if len(games) > 1:\n",
    "    for experiment in experiments:\n",
    "        for k in ks:\n",
    "\n",
    "            performance_profile, performance_profile_confidence_interval = compute_performance_profile_and_confidence_interval(idqn_scores[f\"{experiment}_{k}\"], taus)\n",
    "            plt.plot(taus, performance_profile, label=f\"iDQN {experiment} K={k}\")\n",
    "            if plot_std:\n",
    "                plt.fill_between(taus, performance_profile_confidence_interval[0, :], performance_profile_confidence_interval[1, :], alpha=0.3)\n",
    "\n",
    "    for baseline in baselines_performance_profile:\n",
    "        performance_profile, performance_profile_confidence_interval = compute_performance_profile_and_confidence_interval(baselines_scores[baseline], taus)\n",
    "        plt.plot(taus, performance_profile, label=baseline)\n",
    "        if plot_std:\n",
    "            plt.fill_between(taus, performance_profile_confidence_interval[0, :], performance_profile_confidence_interval[1, :], alpha=0.3)\n",
    "\n",
    "    plt.grid()\n",
    "    plt.xlabel(r\"Human Normalized Score $(\\tau)$\")\n",
    "    plt.ylabel(r\"Fraction of runs with score $> \\tau$\")\n",
    "    if len(games) == 1 and len(experiments) > 0:\n",
    "        plt.legend(bbox_to_anchor=[1, 1])\n",
    "        plt.title(games[0])\n",
    "        _ = plt.savefig(f\"figures/{experiments[0]}/{games[0]}/P.pdf\", bbox_inches='tight')\n",
    "    elif len(experiments) > 0:\n",
    "        plt.legend(ncols=len(baselines) + len(experiments) * len(ks), bbox_to_anchor=[1, 1])\n",
    "        _ = plt.savefig(f\"figures/{experiments[0]}/P.pdf\", bbox_inches='tight')"
   ]
  }
 ],
 "metadata": {
  "kernelspec": {
   "display_name": "env_cpu",
   "language": "python",
   "name": "python3"
  },
  "language_info": {
   "codemirror_mode": {
    "name": "ipython",
    "version": 3
   },
   "file_extension": ".py",
   "mimetype": "text/x-python",
   "name": "python",
   "nbconvert_exporter": "python",
   "pygments_lexer": "ipython3",
   "version": "3.8.13"
  },
  "orig_nbformat": 4
 },
 "nbformat": 4,
 "nbformat_minor": 2
}
