{
 "cells": [
  {
   "cell_type": "code",
   "execution_count": null,
   "metadata": {},
   "outputs": [],
   "source": [
    "%load_ext autoreload\n",
    "%autoreload 2\n",
    "\n",
    "import numpy as np\n",
    "from experiments.atari import EXPERIMENTED_GAME\n",
    "\n",
    "\n",
    "experiments = [\"std_head\"]\n",
    "baselines = []  # ['IQN', 'Rainbow', 'REM', 'DQN (Adam)']\n",
    "baselines_performance_profile = [] # ['IQN', 'REM', 'DQN (Adam)']\n",
    "games = [\"Breakout\"] # EXPERIMENTED_GAME\n",
    "ks = [5]\n",
    "seeds = [11]\n",
    "plot_std = True\n",
    "selected_epochs = np.array([1, 10, 25, 50, 75, 100, 125, 150, 175, 200]) - 1\n",
    "taus = np.linspace(0.0, 8.0, 81)\n",
    "add_dqn = False\n",
    "add_head_std = True"
   ]
  },
  {
   "attachments": {},
   "cell_type": "markdown",
   "metadata": {},
   "source": [
    "### Extract data"
   ]
  },
  {
   "cell_type": "code",
   "execution_count": null,
   "metadata": {},
   "outputs": [],
   "source": [
    "from idqn.utils.baselines_scores import get_baselines_scores\n",
    "\n",
    "if add_dqn:\n",
    "    dqn_scores = {}\n",
    "    for experiment in experiments:\n",
    "        dqn_scores[experiment] = {}\n",
    "        for game in games:\n",
    "            dqn_scores[experiment][game] = np.zeros((200, len(seeds))) * np.nan\n",
    "            for idx_seed, seed in enumerate(seeds):\n",
    "                dqn_scores[experiment][game][:, idx_seed] = np.load(f\"figures/{experiment}/{game}/DQN/J_{seed}.npy\")\n",
    "\n",
    "\n",
    "idqn_scores = {}\n",
    "for experiment in experiments:\n",
    "    for k in ks:\n",
    "        idqn_scores[f\"{experiment}_{k}\"] = {}\n",
    "        for game in games:\n",
    "            idqn_scores[f\"{experiment}_{k}\"][game] = np.zeros((200, len(seeds))) * np.nan\n",
    "            for idx_seed, seed in enumerate(seeds):\n",
    "                idqn_scores[f\"{experiment}_{k}\"][game][:, idx_seed] = np.load(f\"figures/{experiment}/{game}/iDQN/{k}_J_{seed}.npy\")\n",
    "\n",
    "baselines_scores = get_baselines_scores(baselines, games)"
   ]
  },
  {
   "cell_type": "markdown",
   "metadata": {},
   "source": [
    "### IQM vs iterations & performance profile"
   ]
  },
  {
   "cell_type": "code",
   "execution_count": null,
   "metadata": {},
   "outputs": [],
   "source": [
    "import matplotlib.pyplot as plt\n",
    "from idqn.utils.process_scores import compute_iqm_and_confidence_interval\n",
    "from experiments.atari import COLORS, LABEL\n",
    "\n",
    "plt.rc(\"font\", size=15)\n",
    "plt.rc(\"lines\", linewidth=3)\n",
    "\n",
    "if add_dqn:\n",
    "    for experiment in experiments:\n",
    "        iqms, iqms_confidence_interval = compute_iqm_and_confidence_interval(dqn_scores[experiment], selected_epochs)\n",
    "        plt.plot(selected_epochs + 1, iqms, label=f\"DQN {LABEL.get(experiment)}\", color=COLORS[experiment])\n",
    "        if plot_std:\n",
    "            plt.fill_between(selected_epochs + 1, iqms_confidence_interval[0, :], iqms_confidence_interval[1, :], color=COLORS[experiment], alpha=0.3)\n",
    "\n",
    "for experiment in experiments:\n",
    "    for k in ks:\n",
    "        iqms, iqms_confidence_interval = compute_iqm_and_confidence_interval(idqn_scores[f\"{experiment}_{k}\"], selected_epochs)\n",
    "        plt.plot(selected_epochs + 1, iqms, label=f\"iDQN {LABEL.get(f'{experiment}_{k}')}\", color=COLORS[f\"{experiment}_{k}\"])\n",
    "        if plot_std:\n",
    "            plt.fill_between(selected_epochs + 1, iqms_confidence_interval[0, :], iqms_confidence_interval[1, :], color=COLORS[f\"{experiment}_{k}\"], alpha=0.3)\n",
    "\n",
    "for baseline in baselines:\n",
    "    iqms, iqms_confidence_interval = compute_iqm_and_confidence_interval(baselines_scores[baseline], selected_epochs)\n",
    "    plt.plot(selected_epochs + 1, iqms, label=baseline, color=COLORS[baseline])\n",
    "    if plot_std:\n",
    "        plt.fill_between(selected_epochs + 1, iqms_confidence_interval[0, :], iqms_confidence_interval[1, :], color=COLORS[baseline], alpha=0.3)\n",
    "\n",
    "plt.grid()\n",
    "plt.xlabel(\"Number of Frames (in millions)\")\n",
    "plt.ylabel(\"IQM Human Normalized Score\")\n",
    "plt.legend(ncols=len(baselines) + len(experiments) * len(ks) * (1 + int(add_dqn)), bbox_to_anchor=[1, 1])\n",
    "if len(games) == 1 and len(experiments) > 0:\n",
    "    plt.title(games[0])\n",
    "    _ = plt.savefig(f\"figures/{experiments[0]}/{games[0]}/J.pdf\", bbox_inches='tight')\n",
    "elif len(experiments) > 0:\n",
    "    _ = plt.savefig(f\"figures/{experiments[0]}/J.pdf\", bbox_inches='tight')\n",
    "else:\n",
    "    _ = plt.legend()"
   ]
  },
  {
   "cell_type": "code",
   "execution_count": null,
   "metadata": {},
   "outputs": [],
   "source": [
    "import matplotlib.pyplot as plt\n",
    "from idqn.utils.process_scores import compute_performance_profile_and_confidence_interval\n",
    "\n",
    "plt.rc(\"font\", size=15)\n",
    "plt.rc(\"lines\", linewidth=3)\n",
    "\n",
    "\n",
    "if len(games) > 1:\n",
    "    for experiment in experiments:\n",
    "        for k in ks:\n",
    "            performance_profile, performance_profile_confidence_interval = compute_performance_profile_and_confidence_interval(idqn_scores[f\"{experiment}_{k}\"], taus)\n",
    "            plt.plot(taus, performance_profile, label=f\"iDQN {LABEL.get(f'{experiment}_{k}')}\", color=COLORS[f\"{experiment}_{k}\"])\n",
    "            if plot_std:\n",
    "                plt.fill_between(taus, performance_profile_confidence_interval[0, :], performance_profile_confidence_interval[1, :], color=COLORS[f\"{experiment}_{k}\"], alpha=0.3)\n",
    "\n",
    "    for baseline in baselines_performance_profile:\n",
    "        performance_profile, performance_profile_confidence_interval = compute_performance_profile_and_confidence_interval(baselines_scores[baseline], taus)\n",
    "        plt.plot(taus, performance_profile, label=baseline, color=COLORS[baseline])\n",
    "        if plot_std:\n",
    "            plt.fill_between(taus, performance_profile_confidence_interval[0, :], performance_profile_confidence_interval[1, :], color=COLORS[baseline], alpha=0.3)\n",
    "\n",
    "    plt.grid()\n",
    "    plt.xlabel(r\"Human Normalized Score $(\\tau)$\")\n",
    "    plt.ylabel(r\"Fraction of runs with score $> \\tau$\")\n",
    "    if len(games) == 1 and len(experiments) > 0:\n",
    "        plt.legend(bbox_to_anchor=[1, 1])\n",
    "        plt.title(games[0])\n",
    "        _ = plt.savefig(f\"figures/{experiments[0]}/{games[0]}/P.pdf\", bbox_inches='tight')\n",
    "    elif len(experiments) > 0:\n",
    "        plt.legend(ncols=len(baselines) + len(experiments) * len(ks), bbox_to_anchor=[1, 1])\n",
    "        _ = plt.savefig(f\"figures/{experiments[0]}/P.pdf\", bbox_inches='tight')"
   ]
  },
  {
   "attachments": {},
   "cell_type": "markdown",
   "metadata": {},
   "source": [
    "### Head std"
   ]
  },
  {
   "cell_type": "code",
   "execution_count": null,
   "metadata": {},
   "outputs": [],
   "source": [
    "if add_head_std:\n",
    "    head_stds = {}\n",
    "    for experiment in experiments:\n",
    "        for k in ks:\n",
    "            head_stds[f\"{experiment}_{k}\"] = {}\n",
    "            for game in games:\n",
    "                head_stds[f\"{experiment}_{k}\"][game] = np.zeros((200, len(seeds))) * np.nan\n",
    "                for idx_seed, seed in enumerate(seeds):\n",
    "                    head_stds[f\"{experiment}_{k}\"][game][:20, idx_seed] = np.load(f\"figures/{experiment}/{game}/iDQN/{k}_S_{seed}.npy\")\n",
    "\n",
    "\n",
    "    for experiment in experiments:\n",
    "        for k in ks:\n",
    "            iqms, iqms_confidence_interval = compute_iqm_and_confidence_interval(head_stds[f\"{experiment}_{k}\"], selected_epochs, normalize=False)\n",
    "            plt.plot(selected_epochs + 1, iqms, label=f\"iDQN {LABEL.get(f'{experiment}_{k}')}\", color=COLORS[f\"{experiment}_{k}\"])\n",
    "            if plot_std:\n",
    "                plt.fill_between(selected_epochs + 1, iqms_confidence_interval[0, :], iqms_confidence_interval[1, :], color=COLORS[f\"{experiment}_{k}\"], alpha=0.3)\n",
    "\n",
    "\n",
    "    plt.grid()\n",
    "    plt.xlabel(\"Number of Frames (in millions)\")\n",
    "    plt.ylabel(\"IQM inter-head standard deviation\")\n",
    "    plt.legend(ncols=len(baselines) + len(experiments) * len(ks) * (1 + int(add_dqn)), bbox_to_anchor=[1, 1])\n",
    "    if len(games) == 1 and len(experiments) > 0:\n",
    "        plt.title(games[0])\n",
    "        _ = plt.savefig(f\"figures/{experiments[0]}/{games[0]}/S.pdf\", bbox_inches='tight')\n",
    "    elif len(experiments) > 0:\n",
    "        _ = plt.savefig(f\"figures/{experiments[0]}/S.pdf\", bbox_inches='tight')\n",
    "    else:\n",
    "        _ = plt.legend()"
   ]
  }
 ],
 "metadata": {
  "kernelspec": {
   "display_name": "env_cpu",
   "language": "python",
   "name": "python3"
  },
  "language_info": {
   "codemirror_mode": {
    "name": "ipython",
    "version": 3
   },
   "file_extension": ".py",
   "mimetype": "text/x-python",
   "name": "python",
   "nbconvert_exporter": "python",
   "pygments_lexer": "ipython3",
   "version": "3.8.10"
  },
  "orig_nbformat": 4
 },
 "nbformat": 4,
 "nbformat_minor": 2
}
