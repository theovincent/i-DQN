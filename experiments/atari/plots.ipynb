{
    "cells": [
        {
            "cell_type": "code",
            "execution_count": 1,
            "metadata": {},
            "outputs": [],
            "source": [
                "%load_ext autoreload\n",
                "%autoreload 2\n",
                "\n",
                "import json\n",
                "import numpy as np\n",
                "from idqn.utils.confidence_interval import confidence_interval\n",
                "\n",
                "experiment_name = \"test/Breakout\"\n",
                "list_bellman_iterations_scope = [10]\n",
                "seeds = [11]\n",
                "\n",
                "p = json.load(open(f\"figures/{experiment_name.split('/')[0]}/parameters.json\"))\n",
                "\n",
                "n_seeds = len(seeds)\n",
                "ticks_freq = 10"
            ]
        },
        {
            "cell_type": "markdown",
            "metadata": {},
            "source": [
                "### Extract data"
            ]
        },
        {
            "cell_type": "code",
            "execution_count": 2,
            "metadata": {},
            "outputs": [],
            "source": [
                "idqn_j = np.zeros((len(list_bellman_iterations_scope), n_seeds, p[\"n_epochs\"] + 1)) * np.nan\n",
                "\n",
                "for idx, bellman_iterations_scope in enumerate(list_bellman_iterations_scope):\n",
                "    for idx_seed, seed in enumerate(seeds):\n",
                "        idqn_j[idx, idx_seed] = np.load(f\"figures/{experiment_name}/iDQN/{bellman_iterations_scope}_J_{seed}.npy\")"
            ]
        },
        {
            "attachments": {},
            "cell_type": "markdown",
            "metadata": {},
            "source": [
                "### Performances"
            ]
        },
        {
            "cell_type": "code",
            "execution_count": 4,
            "metadata": {},
            "outputs": [],
            "source": [
                "idqn_j_mean = idqn_j.mean(axis=1)\n",
                "idqn_j_std = idqn_j.std(axis=1)\n",
                "idqn_j_confidence_interval = np.zeros((len(list_bellman_iterations_scope), 2, p[\"n_epochs\"] + 1))\n",
                "\n",
                "for idx in range(len(list_bellman_iterations_scope)):\n",
                "    idqn_j_confidence_interval[idx] = confidence_interval(idqn_j_mean[idx], idqn_j_std[idx], n_seeds)"
            ]
        },
        {
            "cell_type": "code",
            "execution_count": 5,
            "metadata": {},
            "outputs": [
                {
                    "data": {
                        "image/png": "[encoded data removed]",
                        "text/plain": [
                            "<Figure size 640x480 with 1 Axes>"
                        ]
                    },
                    "metadata": {},
                    "output_type": "display_data"
                }
            ],
            "source": [
                "import matplotlib.pyplot as plt \n",
                "from experiments import colors\n",
                "\n",
                "plt.rc(\"font\", size=15)\n",
                "plt.rc(\"lines\", linewidth=3)\n",
                "\n",
                "iterations = range(p[\"n_epochs\"] + 1)\n",
                "\n",
                "for idx, bellman_iterations_scope in enumerate(list_bellman_iterations_scope):\n",
                "    plt.plot(iterations, idqn_j_mean[idx], label=f\"K={bellman_iterations_scope}\", color=colors[f\"{idx}\"], zorder=2)\n",
                "    plt.fill_between(iterations, idqn_j_confidence_interval[idx, 0], idqn_j_confidence_interval[idx, 1], color=colors[f\"{idx}\"], alpha=0.3, zorder=2)\n",
                "\n",
                "plt.xticks(range(0, p[\"n_epochs\"] + 1, ticks_freq))\n",
                "plt.xlabel(\"#Epochs\")\n",
                "plt.title(r\"$|| J_i ||_2$\")\n",
                "plt.legend().set_zorder(3)\n",
                "plt.grid(zorder=0)\n",
                "_ = plt.savefig(f\"figures/{experiment_name}/J.pdf\", bbox_inches='tight')"
            ]
        }
    ],
    "metadata": {
        "kernelspec": {
            "display_name": "env_gpu",
            "language": "python",
            "name": "python3"
        },
        "language_info": {
            "codemirror_mode": {
                "name": "ipython",
                "version": 3
            },
            "file_extension": ".py",
            "mimetype": "text/x-python",
            "name": "python",
            "nbconvert_exporter": "python",
            "pygments_lexer": "ipython3",
            "version": "3.8.13"
        },
        "orig_nbformat": 4,
        "vscode": {
            "interpreter": {
                "hash": "b12f92973cac140c89ef61979c65b5cbe58a53e8f4899db2c433cf02244ec4e9"
            }
        }
    },
    "nbformat": 4,
    "nbformat_minor": 2
}
