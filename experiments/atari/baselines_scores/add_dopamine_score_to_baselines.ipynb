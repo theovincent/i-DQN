{
 "cells": [
  {
   "attachments": {},
   "cell_type": "markdown",
   "metadata": {},
   "source": [
    "Add dopamine baselines' score"
   ]
  },
  {
   "cell_type": "code",
   "execution_count": null,
   "metadata": {},
   "outputs": [],
   "source": [
    "import json\n",
    "import numpy as np\n",
    "\n",
    "with open(\"atari_200_iters_scores.npy\", \"rb\") as f:\n",
    "    atari_200m_scores_ = np.load(f, allow_pickle=True)\n",
    "    atari_200m_scores = atari_200m_scores_.tolist()\n",
    "\n",
    "ALGORITHMS = ['C51', 'DQN', 'DQN (Adam + MSE in JAX)', 'IQN', 'Quantile (JAX)', 'Rainbow']\n",
    "GAMES = [game for game in atari_200m_scores[\"C51\"].keys()]\n",
    "\n",
    "for algorithm in ALGORITHMS:\n",
    "    atari_200m_scores[algorithm + \"_dopamine\"] = {}\n",
    "    for game in GAMES:\n",
    "        atari_200m_scores[algorithm + \"_dopamine\"][game] = np.nan * np.zeros((200, 5))\n",
    "        seeds = np.zeros(200, dtype=int)\n",
    "        for element in json.load(open(f\"../../../../dopamine/baselines/atari/data/{game.lower()}.json\")):\n",
    "            if element[\"Agent\"] == algorithm:\n",
    "                atari_200m_scores[algorithm + \"_dopamine\"][game][int(element[\"Iteration\"]), seeds[element[\"Iteration\"]]] = element[\"Value\"]\n",
    "                seeds[element[\"Iteration\"]] += 1\n",
    "        atari_200m_scores[algorithm + \"_dopamine\"][game][199] = atari_200m_scores[algorithm + \"_dopamine\"][game][198]\n",
    "\n",
    "np.save(\"atari_200_iters_scores_plus_dopamine.npy\", atari_200m_scores)"
   ]
  },
  {
   "attachments": {},
   "cell_type": "markdown",
   "metadata": {},
   "source": [
    "Add dopamine self run scores"
   ]
  },
  {
   "cell_type": "code",
   "execution_count": 18,
   "metadata": {},
   "outputs": [],
   "source": [
    "import numpy as np\n",
    "\n",
    "atari_200m_scores = np.load(\"atari_200_iters_scores_plus_dopamine.npy\", allow_pickle=True).tolist()\n",
    "\n",
    "for algorithm, algorithm_name in [(\"IQN\", \"IQN_pure\")]:\n",
    "    atari_200m_scores[algorithm_name] = {}\n",
    "\n",
    "    for game in [\"KungFuMaster\"]:\n",
    "        atari_200m_scores[algorithm_name][game] = np.load(f\"../../../../dopamine/experiments/IQN/{game}/metric.npy\")\n",
    "\n",
    "np.save(\"atari_200_iters_scores_plus_dopamine.npy\", atari_200m_scores)"
   ]
  }
 ],
 "metadata": {
  "kernelspec": {
   "display_name": "env",
   "language": "python",
   "name": "python3"
  },
  "language_info": {
   "codemirror_mode": {
    "name": "ipython",
    "version": 3
   },
   "file_extension": ".py",
   "mimetype": "text/x-python",
   "name": "python",
   "nbconvert_exporter": "python",
   "pygments_lexer": "ipython3",
   "version": "3.10.6"
  },
  "orig_nbformat": 4
 },
 "nbformat": 4,
 "nbformat_minor": 2
}
