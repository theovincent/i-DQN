{
    "cells": [
        {
            "cell_type": "code",
            "execution_count": null,
            "metadata": {},
            "outputs": [],
            "source": [
                "%load_ext autoreload\n",
                "%autoreload 2\n",
                "\n",
                "import json\n",
                "import numpy as np\n",
                "from idqn.utils.confidence_interval import confidence_interval\n",
                "\n",
                "experiment_name = \"q35_N50000_b100_b20_f4_t1_lr4_5_t\"\n",
                "list_bellman_iterations_scope = [1, 2, 4, 5, 10, 20]\n",
                "seeds = range(1, 2)\n",
                "\n",
                "p = json.load(open(f\"old_figures/{experiment_name}/parameters.json\"))\n",
                "\n",
                "n_bellman_iterations = p[\"n_epochs\"] * p[\"n_bellman_iterations_per_epoch\"]\n",
                "n_states_x = p[\"n_states_x\"]\n",
                "n_states_v = p[\"n_states_v\"]\n",
                "n_seeds = len(seeds)\n",
                "ticks_freq = 3"
            ]
        },
        {
            "cell_type": "markdown",
            "metadata": {},
            "source": [
                "### Extract data"
            ]
        },
        {
            "cell_type": "code",
            "execution_count": null,
            "metadata": {},
            "outputs": [],
            "source": [
                "optimal_q = np.load(f\"old_figures/data/optimal/Q.npy\")\n",
                "optimal_v = np.load(f\"old_figures/data/optimal/V.npy\")\n",
                "\n",
                "ifqi_q = np.zeros((len(list_bellman_iterations_scope), n_seeds, n_bellman_iterations + 1, n_states_x, n_states_v, 2))\n",
                "ifqi_v = np.zeros((len(list_bellman_iterations_scope), n_seeds, n_bellman_iterations + 1, n_states_x, n_states_v))\n",
                "ifqi_ae = np.zeros((len(list_bellman_iterations_scope), n_seeds, n_bellman_iterations))\n",
                "ifqi_be = np.zeros((len(list_bellman_iterations_scope), n_seeds, n_bellman_iterations + 1))\n",
                "\n",
                "for idx, bellman_iterations_scope in enumerate(list_bellman_iterations_scope):\n",
                "    for idx_seed, seed in enumerate(seeds):\n",
                "        ifqi_q[idx, idx_seed] = np.load(f\"old_figures/{experiment_name}/iFQI/{bellman_iterations_scope}_Q_{seed}.npy\")\n",
                "        ifqi_v[idx, idx_seed] = np.load(f\"old_figures/{experiment_name}/iFQI/{bellman_iterations_scope}_V_{seed}.npy\")\n",
                "        ifqi_ae[idx, idx_seed] = np.load(f\"old_figures/{experiment_name}/iFQI/{bellman_iterations_scope}_A_{seed}.npy\")\n",
                "        ifqi_be[idx, idx_seed] = np.load(f\"old_figures/{experiment_name}/iFQI/{bellman_iterations_scope}_B_{seed}.npy\")\n",
                "\n",
                "samples_mask = np.load(f\"old_figures/{experiment_name}/samples_count.npy\")\n",
                "samples_mask_q_format = np.repeat(samples_mask[:, :, None], 2, axis=-1)"
            ]
        },
        {
            "cell_type": "markdown",
            "metadata": {},
            "source": [
                "### Distances with the optimal Q function"
            ]
        },
        {
            "cell_type": "code",
            "execution_count": null,
            "metadata": {},
            "outputs": [],
            "source": [
                "ifqi_q_mean = np.sqrt(np.mean(np.square(ifqi_q - optimal_q) * samples_mask_q_format, axis=(3, 4, 5))).mean(axis=1)\n",
                "ifqi_q_std = np.sqrt(np.mean(np.square(ifqi_q - optimal_q) * samples_mask_q_format, axis=(3, 4, 5))).std(axis=1)\n",
                "ifqi_q_confidence_interval = np.zeros((len(list_bellman_iterations_scope), 2, n_bellman_iterations + 1))\n",
                "\n",
                "for idx in range(len(list_bellman_iterations_scope)):\n",
                "    ifqi_q_confidence_interval[idx] = confidence_interval(ifqi_q_mean[idx], ifqi_q_std[idx], n_seeds)"
            ]
        },
        {
            "cell_type": "code",
            "execution_count": null,
            "metadata": {},
            "outputs": [],
            "source": [
                "import matplotlib.pyplot as plt \n",
                "\n",
                "colors = {\n",
                "    \"0\": \"#984ea3\",\n",
                "    \"1\": \"#e41a1c\",\n",
                "    \"2\": \"#4daf4a\",\n",
                "    \"3\": \"#377eb8\",\n",
                "    \"4\": \"#ff7f00\",\n",
                "    \"5\": \"#f781bf\",\n",
                "    \"6\": \"#a65628\",\n",
                "    \"7\": \"#999999\",\n",
                "    \"8\": \"#dede00\",\n",
                "}\n",
                "\n",
                "\n",
                "plt.rc(\"font\", size=15)\n",
                "plt.rc(\"lines\", linewidth=3)\n",
                "\n",
                "iterations = range(n_bellman_iterations + 1)\n",
                "\n",
                "for idx, bellman_iterations_scope in enumerate(list_bellman_iterations_scope):\n",
                "    plt.plot(iterations, ifqi_q_mean[idx], label=f\"K={bellman_iterations_scope}\", color=colors[f\"{idx}\"], zorder=1)\n",
                "    plt.scatter(iterations[::bellman_iterations_scope], ifqi_q_mean[idx, :: bellman_iterations_scope], marker=\"|\", color=colors[f\"{idx}\"], zorder=1)\n",
                "    plt.fill_between(iterations, ifqi_q_confidence_interval[idx, 0], ifqi_q_confidence_interval[idx, 1], color=colors[f\"{idx}\"], alpha=0.3)\n",
                "\n",
                "plt.xticks(range(0, n_bellman_iterations + 1, ticks_freq))\n",
                "plt.xlabel(\"#Iterations\")\n",
                "plt.title(r\"$|| Q^* - Q_i ||_2$\")\n",
                "plt.legend().set_zorder(3)\n",
                "plt.grid(zorder=0)\n",
                "# _ = plt.savefig(f\"oldfigures/{experiment_name}/distance_to_optimal_Q.pdf\", bbox_inches='tight')"
            ]
        },
        {
            "cell_type": "markdown",
            "metadata": {},
            "source": [
                "### Visualization of the policies at iteration max_bellman_iterations"
            ]
        },
        {
            "cell_type": "code",
            "execution_count": null,
            "metadata": {},
            "outputs": [],
            "source": [
                "from experiments.car_on_hill.utils import TwoDimesionsMesh\n",
                "\n",
                "max_pos = 1.0\n",
                "max_velocity = 3.0\n",
                "\n",
                "states_x = np.linspace(-max_pos, max_pos, n_states_x)\n",
                "states_v = np.linspace(-max_velocity, max_velocity, n_states_v)\n",
                "\n",
                "q_visu_mesh = TwoDimesionsMesh(states_x, states_v, axis_equal=False, zero_centered=True)\n",
                "\n",
                "optimal_pi_weighted_average = (2 * ((optimal_q[:, :, 1] > optimal_q[:, :, 0])).astype(float) - 1) + (optimal_q[:, :, 1] == optimal_q[:, :, 0]).astype(float) / 2\n",
                "\n",
                "q_visu_mesh.set_values(optimal_pi_weighted_average)\n",
                "q_visu_mesh.show(\"$\\pi^*$\")\n",
                "# _ = plt.savefig(f\"figures/{experiment_name}/optimal_pi.pdf\", bbox_inches='tight')"
            ]
        },
        {
            "cell_type": "code",
            "execution_count": null,
            "metadata": {},
            "outputs": [],
            "source": [
                "for idx in range(len(list_bellman_iterations_scope)):\n",
                "    ifqi_left_q = ifqi_q[idx, :, -1, :, :, 0]\n",
                "    ifqi_right_q = ifqi_q[idx, :, -1, :, :, 1]\n",
                "    ifqi_pi_weighted_average = (2 * (ifqi_right_q > ifqi_left_q).mean(axis=0) - 1)\n",
                "\n",
                "    q_visu_mesh.set_values(ifqi_pi_weighted_average)\n",
                "    q_visu_mesh.show(f\"$\\pi^{list_bellman_iterations_scope[idx]}$\", xlabel=\"x\", ylabel=\"v\")\n",
                "    # _ = plt.savefig(f\"figures/{experiment_name}/ifqi_pi_{list_bellman_iterations_scope[idx]}.pdf\", bbox_inches='tight')"
            ]
        },
        {
            "cell_type": "markdown",
            "metadata": {},
            "source": [
                "### Distance to optimal value function"
            ]
        },
        {
            "cell_type": "code",
            "execution_count": null,
            "metadata": {},
            "outputs": [],
            "source": [
                "ifqi_v_mean = np.sqrt(np.mean(np.square(ifqi_v - optimal_v) * samples_mask, axis=(3, 4))).mean(axis=1)\n",
                "ifqi_v_std = np.sqrt(np.mean(np.square(ifqi_v - optimal_v) * samples_mask, axis=(3, 4))).std(axis=1)\n",
                "ifqi_v_confidence_interval = np.zeros((len(list_bellman_iterations_scope), 2, n_bellman_iterations + 1))\n",
                "\n",
                "for idx in range(len(list_bellman_iterations_scope)):\n",
                "    ifqi_v_confidence_interval[idx] = confidence_interval(ifqi_v_mean[idx], ifqi_v_std[idx], n_seeds)"
            ]
        },
        {
            "cell_type": "code",
            "execution_count": null,
            "metadata": {},
            "outputs": [],
            "source": [
                "for idx, bellman_iterations_scope in enumerate(list_bellman_iterations_scope):\n",
                "    if bellman_iterations_scope in [1, 5]:\n",
                "        for k in [12, 14, 16, 18, 20]:\n",
                "            gap = (ifqi_v_confidence_interval[idx, 1, k] - ifqi_v_confidence_interval[idx, 0, k]) / 2\n",
                "\n",
                "            print(\"--- K=\", bellman_iterations_scope, \" ---\")\n",
                "            print(f\"k={k}\", np.around(ifqi_v_mean[idx][k], 2), \"+-\", np.around(gap, 2))\n",
                "            print()"
            ]
        },
        {
            "cell_type": "code",
            "execution_count": null,
            "metadata": {},
            "outputs": [],
            "source": [
                "import matplotlib.pyplot as plt \n",
                "\n",
                "colors = {\n",
                "    \"0\": \"#984ea3\",\n",
                "    \"1\": \"#e41a1c\",\n",
                "    \"2\": \"#4daf4a\",\n",
                "    \"3\": \"#377eb8\",\n",
                "    \"4\": \"#ff7f00\",\n",
                "    \"5\": \"#f781bf\",\n",
                "    \"6\": \"#a65628\",\n",
                "    \"7\": \"#999999\",\n",
                "    \"8\": \"#dede00\",\n",
                "}\n",
                "\n",
                "\n",
                "plt.rc(\"font\", size=22, family='serif', serif=\"Times New Roman\")  # 18 for main paper and 15 for the table of figures\n",
                "plt.rc(\"lines\", linewidth=3)\n",
                "\n",
                "fig = plt.figure(figsize=(8, 4))\n",
                "ax = fig.add_subplot(111)\n",
                "\n",
                "iterations = range(n_bellman_iterations + 1)\n",
                "\n",
                "for idx, bellman_iterations_scope in enumerate(list_bellman_iterations_scope):\n",
                "    ax.plot(iterations, ifqi_v_mean[idx], label=f\"K={bellman_iterations_scope}\", color=colors[f\"{idx}\"], zorder=1)\n",
                "    # plt.scatter(iterations[::bellman_iterations_scope], ifqi_v_mean[idx, :: bellman_iterations_scope], marker=\"|\", color=colors[f\"{idx}\"], zorder=1)\n",
                "    ax.fill_between(iterations, ifqi_v_confidence_interval[idx, 0], ifqi_v_confidence_interval[idx, 1], color=colors[f\"{idx}\"], alpha=0.3)\n",
                "\n",
                "ax.set_xticks(range(0, n_bellman_iterations + 1, ticks_freq))\n",
                "ax.set_xlabel(r\"$k^{th}$ projection step\")\n",
                "ax.set_ylabel(r\"$|| V^* - V^{\\pi_k} ||_2$\")\n",
                "ax.set_title(\"Car-On-Hill\")\n",
                "ax.legend(ncols=2).set_zorder(3)\n",
                "ax.grid(zorder=0)\n",
                "# _ = fig.savefig(f\"figures/distance_to_optimal_V.pdf\", bbox_inches='tight')"
            ]
        },
        {
            "cell_type": "markdown",
            "metadata": {},
            "source": [
                "### Value functions"
            ]
        },
        {
            "cell_type": "code",
            "execution_count": null,
            "metadata": {},
            "outputs": [],
            "source": [
                "ifqi_v_mean_performance = np.mean(ifqi_v * samples_mask, axis=(3, 4)).mean(axis=1)\n",
                "ifqi_v_std_performance = np.mean(ifqi_v * samples_mask, axis=(3, 4)).std(axis=1)\n",
                "ifqi_v_confidence_interval_performance = np.zeros((len(list_bellman_iterations_scope), 2, n_bellman_iterations + 1))\n",
                "\n",
                "for idx in range(len(list_bellman_iterations_scope)):\n",
                "    ifqi_v_confidence_interval_performance[idx] = confidence_interval(ifqi_v_mean_performance[idx], ifqi_v_std_performance[idx], n_seeds)\n",
                "\n",
                "optimal_v_performance = (optimal_v * samples_mask).mean()"
            ]
        },
        {
            "cell_type": "code",
            "execution_count": null,
            "metadata": {},
            "outputs": [],
            "source": [
                "import matplotlib.pyplot as plt \n",
                "from experiments import colors\n",
                "\n",
                "plt.rc(\"font\", size=15)\n",
                "plt.rc(\"lines\", linewidth=3)\n",
                "\n",
                "iterations = range(n_bellman_iterations + 1)\n",
                "\n",
                "plt.hlines(optimal_v_performance, 0, n_bellman_iterations, color=\"black\", linestyle=\"--\", label=\"Optimal\")\n",
                "\n",
                "for idx, bellman_iterations_scope in enumerate(list_bellman_iterations_scope):\n",
                "    plt.plot(iterations, ifqi_v_mean_performance[idx], label=f\"K={bellman_iterations_scope}\", color=colors[f\"{idx}\"], zorder=1)\n",
                "    plt.scatter(iterations[::bellman_iterations_scope], ifqi_v_mean_performance[idx, :: bellman_iterations_scope], marker=\"|\", color=colors[f\"{idx}\"], zorder=1)\n",
                "    plt.fill_between(iterations, ifqi_v_confidence_interval_performance[idx, 0], ifqi_v_confidence_interval_performance[idx, 1], color=colors[f\"{idx}\"], alpha=0.3)\n",
                "\n",
                "plt.xticks(range(0, n_bellman_iterations + 1, ticks_freq))\n",
                "plt.xlabel(\"#Iterations\")\n",
                "plt.title(r\"$|| J_i ||_2$\")\n",
                "plt.legend().set_zorder(3)\n",
                "plt.grid(zorder=0)\n",
                "# _ = plt.savefig(f\"figures/{experiment_name}/J.pdf\", bbox_inches='tight')"
            ]
        },
        {
            "cell_type": "markdown",
            "metadata": {},
            "source": [
                "### Visualization of the last value functions"
            ]
        },
        {
            "cell_type": "code",
            "execution_count": null,
            "metadata": {},
            "outputs": [],
            "source": [
                "from experiments.car_on_hill.utils import TwoDimesionsMesh\n",
                "\n",
                "max_pos = 1.0\n",
                "max_velocity = 3.0\n",
                "\n",
                "states_x = np.linspace(-max_pos, max_pos, n_states_x)\n",
                "states_v = np.linspace(-max_velocity, max_velocity, n_states_v)\n",
                "\n",
                "q_visu_mesh = TwoDimesionsMesh(states_x, states_v)\n",
                "\n",
                "q_visu_mesh.set_values(optimal_v * samples_mask)\n",
                "q_visu_mesh.show(r\"$V^{\\pi^*}, \\mathbb{E}\\left[ V^{\\pi^*} \\right] =$\" + str(np.round(np.mean(optimal_v * samples_mask), 2)))\n",
                "# _ = plt.savefig(f\"figures/{experiment_name}/optimal_V.pdf\", bbox_inches='tight')"
            ]
        },
        {
            "cell_type": "code",
            "execution_count": null,
            "metadata": {},
            "outputs": [],
            "source": [
                "for idx in range(len(list_bellman_iterations_scope)):\n",
                "    ifqi_last_v = ifqi_v[idx, :, -1].mean(axis=0)\n",
                "\n",
                "    q_visu_mesh.set_values(ifqi_last_v * samples_mask)\n",
                "    q_visu_mesh.show(r\"$V^{\\pi_{ifqi}}, \\mathbb{E}\\left[ V^{\\pi_{ifqi}} \\right] =$\" + f\"{np.round(np.mean(ifqi_last_v * samples_mask), 4)}\")\n",
                "    # _ = plt.savefig(f\"figures/{experiment_name}/ifqi_V_{list_bellman_iterations_scope[idx]}.pdf\", bbox_inches='tight')"
            ]
        },
        {
            "attachments": {},
            "cell_type": "markdown",
            "metadata": {},
            "source": [
                "### Approximation error"
            ]
        },
        {
            "cell_type": "code",
            "execution_count": null,
            "metadata": {},
            "outputs": [],
            "source": [
                "import jax.numpy as jnp\n",
                "\n",
                "importance_iteration = jnp.ones(n_bellman_iterations)\n",
                "importance_iteration = np.repeat(importance_iteration[None, :], n_seeds, axis=0)\n",
                "importance_iteration = np.repeat(importance_iteration[None, :], len(list_bellman_iterations_scope), axis=0)\n",
                "\n",
                "ifqi_ae_mean_performance = (ifqi_ae * importance_iteration).mean(axis=1)\n",
                "ifqi_ae_std_performance = (ifqi_ae * importance_iteration).std(axis=1)\n",
                "ifqi_ae_confidence_interval_performance = np.zeros((len(list_bellman_iterations_scope), 2, n_bellman_iterations))\n",
                "\n",
                "for idx in range(len(list_bellman_iterations_scope)):\n",
                "    ifqi_ae_confidence_interval_performance[idx] = confidence_interval(ifqi_ae_mean_performance[idx], ifqi_ae_std_performance[idx], n_seeds)"
            ]
        },
        {
            "cell_type": "code",
            "execution_count": null,
            "metadata": {},
            "outputs": [],
            "source": [
                "import matplotlib.pyplot as plt \n",
                "from experiments import colors\n",
                "\n",
                "plt.rc(\"font\", size=15)\n",
                "plt.rc(\"lines\", linewidth=3)\n",
                "\n",
                "iterations = range(1, n_bellman_iterations + 1)\n",
                "\n",
                "for idx, bellman_iterations_scope in enumerate(list_bellman_iterations_scope):\n",
                "    plt.plot(iterations, ifqi_ae_mean_performance[idx], label=f\"K={bellman_iterations_scope}\", color=colors[f\"{idx}\"], zorder=1)\n",
                "    plt.scatter(iterations[::bellman_iterations_scope], ifqi_ae_mean_performance[idx, :: bellman_iterations_scope], marker=\"|\", color=colors[f\"{idx}\"], zorder=1)\n",
                "    plt.fill_between(iterations, ifqi_ae_confidence_interval_performance[idx, 0], ifqi_ae_confidence_interval_performance[idx, 1], color=colors[f\"{idx}\"], alpha=0.3)\n",
                "\n",
                "plt.xticks(range(1, n_bellman_iterations + 1, ticks_freq))\n",
                "plt.xlabel(\"#Iterations\")\n",
                "plt.title(\"$|| \\Gamma^*Q_{i - 1} - Q_i ||_2^2$\")\n",
                "plt.legend().set_zorder(3)\n",
                "plt.grid(zorder=0)\n",
                "# _ = plt.savefig(f\"figures/{experiment_name}/ApproximationError.pdf\", bbox_inches='tight')"
            ]
        },
        {
            "cell_type": "code",
            "execution_count": null,
            "metadata": {},
            "outputs": [],
            "source": [
                "from idqn.utils.confidence_interval import importance_bound\n",
                "\n",
                "importance_iteration = importance_bound(p[\"gamma\"], n_bellman_iterations) * 0 + 1\n",
                "importance_iteration = np.repeat(importance_iteration[None, :], n_seeds, axis=0)\n",
                "importance_iteration = np.repeat(importance_iteration[None, :], len(list_bellman_iterations_scope), axis=0)\n",
                "\n",
                "ifqi_ae_mean_performance = (ifqi_ae * importance_iteration).mean(axis=1)\n",
                "ifqi_ae_std_performance = (ifqi_ae * importance_iteration).std(axis=1)\n",
                "ifqi_ae_confidence_interval_performance = np.zeros((len(list_bellman_iterations_scope), 2, n_bellman_iterations))\n",
                "\n",
                "for idx in range(len(list_bellman_iterations_scope)):\n",
                "    ifqi_ae_confidence_interval_performance[idx] = confidence_interval(ifqi_ae_mean_performance[idx], ifqi_ae_std_performance[idx], n_seeds)"
            ]
        },
        {
            "cell_type": "code",
            "execution_count": null,
            "metadata": {},
            "outputs": [],
            "source": [
                "import matplotlib.pyplot as plt \n",
                "from experiments import colors\n",
                "\n",
                "plt.rc(\"font\", size=15)\n",
                "plt.rc(\"lines\", linewidth=3)\n",
                "\n",
                "for idx_bellman_iteration in range(n_bellman_iterations):\n",
                "    plt.bar(range(len(list_bellman_iterations_scope)), ifqi_ae_mean_performance[:, idx_bellman_iteration], bottom=ifqi_ae_mean_performance[:, :idx_bellman_iteration].sum(axis=1), color=colors[f\"{idx_bellman_iteration % len(colors)}\"], zorder=2)\n",
                "\n",
                "plt.title(\"$ \\sum_{i=1}^N || \\Gamma^*Q_{i - 1} - Q_i ||_2^2$\")\n",
                "plt.xticks(range(len(list_bellman_iterations_scope)), list_bellman_iterations_scope)\n",
                "plt.grid(zorder=0)\n",
                "plt.xlabel(\"k\")\n",
                "# _ = plt.savefig(f\"figures/{experiment_name}/ApproximationError_bars.pdf\", bbox_inches='tight')"
            ]
        },
        {
            "attachments": {},
            "cell_type": "markdown",
            "metadata": {},
            "source": [
                "### Bellman error"
            ]
        },
        {
            "cell_type": "code",
            "execution_count": null,
            "metadata": {},
            "outputs": [],
            "source": [
                "ifqi_be_mean_performance = ifqi_be.mean(axis=1)\n",
                "ifqi_be_std_performance = ifqi_be.std(axis=1)\n",
                "ifqi_be_confidence_interval_performance = np.zeros((len(list_bellman_iterations_scope), 2, n_bellman_iterations + 1))\n",
                "\n",
                "for idx in range(len(list_bellman_iterations_scope)):\n",
                "    ifqi_be_confidence_interval_performance[idx] = confidence_interval(ifqi_be_mean_performance[idx], ifqi_be_std_performance[idx], n_seeds)"
            ]
        },
        {
            "cell_type": "code",
            "execution_count": null,
            "metadata": {},
            "outputs": [],
            "source": [
                "import matplotlib.pyplot as plt \n",
                "from experiments import colors\n",
                "\n",
                "plt.rc(\"font\", size=15)\n",
                "plt.rc(\"lines\", linewidth=3)\n",
                "\n",
                "iterations = range(1, n_bellman_iterations + 2)\n",
                "\n",
                "for idx, bellman_iterations_scope in enumerate(list_bellman_iterations_scope):\n",
                "    plt.plot(iterations, ifqi_be_mean_performance[idx], label=f\"K={bellman_iterations_scope}\", color=colors[f\"{idx}\"], zorder=1)\n",
                "    # plt.scatter(iterations[::bellman_iterations_scope], ifqi_be_mean_performance[idx, :: bellman_iterations_scope], marker=\"|\", color=colors[f\"{idx}\"], zorder=1)\n",
                "    plt.fill_between(iterations, ifqi_be_confidence_interval_performance[idx, 0], ifqi_be_confidence_interval_performance[idx, 1], color=colors[f\"{idx}\"], alpha=0.3)\n",
                "\n",
                "plt.xticks(range(1, n_bellman_iterations + 2, ticks_freq))\n",
                "plt.xlabel(\"#Iterations\")\n",
                "plt.title(\"$|| \\Gamma^*Q_{i-1} - Q_{i-1} ||_2^2$\")\n",
                "plt.legend().set_zorder(3)\n",
                "plt.grid(zorder=0)\n",
                "# _ = plt.savefig(f\"figures/{experiment_name}/BellmanError.pdf\", bbox_inches='tight')"
            ]
        }
    ],
    "metadata": {
        "kernelspec": {
            "display_name": "env_cpu",
            "language": "python",
            "name": "python3"
        },
        "language_info": {
            "codemirror_mode": {
                "name": "ipython",
                "version": 3
            },
            "file_extension": ".py",
            "mimetype": "text/x-python",
            "name": "python",
            "nbconvert_exporter": "python",
            "pygments_lexer": "ipython3",
            "version": "3.10.13"
        },
        "orig_nbformat": 4,
        "vscode": {
            "interpreter": {
                "hash": "a477fb638a0b63f76b5ba5d33a8f5d5ef8f5fc2ee8a985d76813730777be51f1"
            }
        }
    },
    "nbformat": 4,
    "nbformat_minor": 2
}
