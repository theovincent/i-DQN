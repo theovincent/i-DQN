{
 "cells": [
  {
   "cell_type": "code",
   "execution_count": null,
   "metadata": {},
   "outputs": [],
   "source": [
    "%load_ext autoreload\n",
    "%autoreload 2\n",
    "\n",
    "import jax\n",
    "import jax.numpy as jnp\n",
    "\n",
    "from idqn.networks.architectures.base import FeatureNet\n",
    "from idqn.utils.pickle import load_pickled_data, save_pickled_data\n",
    "from flax.core import FrozenDict\n",
    "\n",
    "old_params = load_pickled_data(\"old_figures/q35_N50000_b100_b20_f4_t1_lr4_5_t/iFQI/20_P_1_0-20\")\n",
    "# old_params = load_pickled_data(\"figures/N50000_t500_b100_lr1_5_D1/iFQI_bound/1_Q_s11_online_params\")\n",
    "\n",
    "# # feature_net = FeatureNet([35])\n",
    "feature_net = FeatureNet([50])\n",
    "params_features = feature_net.init(jax.random.PRNGKey(0), jnp.array([0.0, 0.0]))\n",
    "\n",
    "unfrozen_params_features = params_features.unfreeze()\n",
    "unfrozen_params_features[\"params\"][\"Dense_0\"][\"bias\"] = old_params[\"FullyConnectedNet/~/head_20_linear_0\"][\"b\"]\n",
    "unfrozen_params_features[\"params\"][\"Dense_0\"][\"kernel\"] = old_params[\"FullyConnectedNet/~/head_20_linear_0\"][\"w\"]\n",
    "# unfrozen_params_features[\"params\"][\"Dense_0\"][\"bias\"] = old_params[\"params\"][\"Dense_0\"][\"bias\"][0]\n",
    "# unfrozen_params_features[\"params\"][\"Dense_0\"][\"kernel\"] = old_params[\"params\"][\"Dense_0\"][\"kernel\"][0]\n",
    "params_features = FrozenDict(unfrozen_params_features)\n",
    "\n",
    "save_pickled_data(\"figures/data/features\", params_features)"
   ]
  },
  {
   "cell_type": "markdown",
   "metadata": {},
   "source": [
    "## Test the params without the bias on the linear layer"
   ]
  },
  {
   "cell_type": "code",
   "execution_count": null,
   "metadata": {},
   "outputs": [],
   "source": [
    "from idqn.environments.car_on_hill import CarOnHillEnv\n",
    "from idqn.networks.architectures.ifqi import CarOnHilliFQI\n",
    "\n",
    "env = CarOnHillEnv(0.95)\n",
    "\n",
    "\n",
    "q = CarOnHilliFQI(\n",
    "    2,\n",
    "    \"figures/data/features\",\n",
    "    (2,),\n",
    "    env.n_actions,\n",
    "    0.95,\n",
    "    jax.random.PRNGKey(0),\n",
    "    0,\n",
    "    0\n",
    ")\n",
    "\n",
    "unfrozen_params = q.params.unfreeze()\n",
    "unfrozen_params[\"params\"][\"Dense_0\"][\"kernel\"] = jnp.repeat(old_params[\"FullyConnectedNet/~/head_20_linear_last\"][\"w\"][None], 2, axis=0)\n",
    "# unfrozen_params[\"params\"][\"Dense_0\"][\"kernel\"] = old_params[\"params\"][\"Dense_1\"][\"kernel\"]\n",
    "# unfrozen_params[\"params\"][\"Dense_0\"][\"bias\"] = old_params[\"params\"][\"Dense_1\"][\"bias\"]\n",
    "q.params = FrozenDict(unfrozen_params)"
   ]
  },
  {
   "cell_type": "code",
   "execution_count": null,
   "metadata": {},
   "outputs": [],
   "source": [
    "import numpy as np\n",
    "\n",
    "from experiments.car_on_hill.utils import TwoDimesionsMesh\n",
    "\n",
    "\n",
    "states_x = np.linspace(-env.max_position, env.max_position, 17)\n",
    "states_v = np.linspace(-env.max_velocity, env.max_velocity, 17)\n",
    "\n",
    "q_diff_values= env.diff_q_estimate_mesh(q, jax.tree_map(lambda param: param[0][None], q.params), states_x, states_v)\n",
    "performance = env.evaluate(q, jax.tree_map(lambda param: param[0][None], q.params), 100, np.array([-0.5, 0]))\n",
    "\n",
    "q_visu_mesh = TwoDimesionsMesh(states_x, states_v, axis_equal=False, zero_centered=True)\n",
    "\n",
    "title = r\"$\\pi^K_k$\" + f\" for K = 20 at k = 20\\n\"\n",
    "title += f\"V([-0.5, 0]) = {np.around(performance, 2)}\"\n",
    "\n",
    "q_visu_mesh.set_values((2 * (q_diff_values > 0) -1).astype(float))\n",
    "q_visu_mesh.show(title, xlabel=\"x\", ylabel=\"v\", ticks_freq=3)"
   ]
  }
 ],
 "metadata": {
  "kernelspec": {
   "display_name": "env",
   "language": "python",
   "name": "python3"
  },
  "language_info": {
   "codemirror_mode": {
    "name": "ipython",
    "version": 3
   },
   "file_extension": ".py",
   "mimetype": "text/x-python",
   "name": "python",
   "nbconvert_exporter": "python",
   "pygments_lexer": "ipython3",
   "version": "3.10.13"
  }
 },
 "nbformat": 4,
 "nbformat_minor": 2
}
