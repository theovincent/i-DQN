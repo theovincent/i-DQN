{
 "cells": [
  {
   "cell_type": "code",
   "execution_count": null,
   "metadata": {},
   "outputs": [],
   "source": [
    "%load_ext autoreload\n",
    "%autoreload 2\n",
    "\n",
    "import json\n",
    "import jax\n",
    "\n",
    "from idqn.environments.car_on_hill import CarOnHillEnv\n",
    "from idqn.sample_collection.replay_buffer import ReplayBuffer\n",
    "\n",
    "\n",
    "p = json.load(open(f\"parameters.json\"))\n",
    "\n",
    "env = CarOnHillEnv(p[\"gamma\"])\n",
    "\n",
    "replay_buffer = ReplayBuffer(\n",
    "    (2,),\n",
    "    p[\"replay_buffer_size\"],\n",
    "    p[\"batch_size\"],\n",
    "    p[\"n_step_return\"],\n",
    "    p[\"gamma\"],\n",
    "    lambda x: x,\n",
    "    stack_size=1,\n",
    "    observation_dtype=float,\n",
    ")\n",
    "env.collect_random_samples(\n",
    "    jax.random.PRNGKey(0),\n",
    "    replay_buffer,\n",
    "    p[\"n_random_samples\"],\n",
    "    p[\"n_oriented_samples\"],\n",
    "    p[\"oriented_states\"],\n",
    "    p[\"horizon\"],\n",
    ")\n",
    "\n",
    "replay_buffer_states_x = replay_buffer._store[\"observation\"][:replay_buffer.cursor(), 0]\n",
    "replay_buffer_states_v = replay_buffer._store[\"observation\"][:replay_buffer.cursor(), 1]\n",
    "replay_buffer_rewards = replay_buffer._store[\"reward\"][:replay_buffer.cursor()]"
   ]
  },
  {
   "cell_type": "code",
   "execution_count": null,
   "metadata": {},
   "outputs": [],
   "source": [
    "import numpy as np\n",
    "import matplotlib.pyplot as plt\n",
    "\n",
    "from experiments.car_on_hill.utils import count_samples, TwoDimesionsMesh\n",
    "\n",
    "\n",
    "states_x = np.linspace(-env.max_position, env.max_position, p[\"n_states_x\"])\n",
    "states_v = np.linspace(-env.max_velocity, env.max_velocity, p[\"n_states_v\"])\n",
    "boxes_x_size = (2 * env.max_position) / (p[\"n_states_x\"] - 1)\n",
    "states_x_boxes = (\n",
    "    np.linspace(-env.max_position, env.max_position + boxes_x_size, p[\"n_states_x\"] + 1) - boxes_x_size / 2\n",
    ")\n",
    "boxes_v_size = (2 * env.max_velocity) / (p[\"n_states_v\"] - 1)\n",
    "states_v_boxes = (\n",
    "    np.linspace(-env.max_velocity, env.max_velocity + boxes_v_size, p[\"n_states_v\"] + 1) - boxes_v_size / 2\n",
    ")\n",
    "\n",
    "samples_count, _, rewards_count = count_samples(\n",
    "    replay_buffer_states_x,\n",
    "    replay_buffer_states_v,\n",
    "    states_x_boxes,\n",
    "    states_v_boxes,\n",
    "    replay_buffer_rewards,\n",
    ")\n",
    "\n",
    "samples_visu_mesh = TwoDimesionsMesh(states_x, states_v, sleeping_time=0, axis_equal=False, zero_centered=False)\n",
    "\n",
    "samples_count[samples_count == 0] = None\n",
    "\n",
    "samples_visu_mesh.set_values(samples_count)\n",
    "samples_visu_mesh.show(\"\", xlabel=\"x\", ylabel=\"v\", ticks_freq=2)\n",
    "# _ = plt.savefig(f\"figures/{experiment_name}/sample_repartition.pdf\", bbox_inches='tight')"
   ]
  },
  {
   "cell_type": "code",
   "execution_count": null,
   "metadata": {},
   "outputs": [],
   "source": [
    "rewards_count[rewards_count == 0] = None\n",
    "\n",
    "samples_visu_mesh.set_values(rewards_count)\n",
    "samples_visu_mesh.show(\"\", xlabel=\"x\", ylabel=\"v\", ticks_freq=2)\n",
    "# _ = plt.savefig(f\"figures/{experiment_name}/reward_repartition.pdf\", bbox_inches='tight')"
   ]
  }
 ],
 "metadata": {
  "kernelspec": {
   "display_name": "env",
   "language": "python",
   "name": "python3"
  },
  "language_info": {
   "codemirror_mode": {
    "name": "ipython",
    "version": 3
   },
   "file_extension": ".py",
   "mimetype": "text/x-python",
   "name": "python",
   "nbconvert_exporter": "python",
   "pygments_lexer": "ipython3",
   "version": "3.10.13"
  }
 },
 "nbformat": 4,
 "nbformat_minor": 2
}
