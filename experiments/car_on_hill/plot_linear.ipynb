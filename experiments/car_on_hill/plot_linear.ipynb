{
 "cells": [
  {
   "cell_type": "code",
   "execution_count": null,
   "metadata": {},
   "outputs": [],
   "source": [
    "%load_ext autoreload\n",
    "%autoreload 2\n",
    "\n",
    "import json\n",
    "import numpy as np\n",
    "\n",
    "experiment_name = \"N50000_t500_b100_lr1_5_D1\" # \"N50000_t500_b100_lr1_5\"\n",
    "bellman_iterations_scopes = [1, 4, 7, 10, 20]\n",
    "seeds = [int(f\"1{idx}\") for idx in range(1, 21)]\n",
    "\n",
    "p = json.load(open(f\"figures/{experiment_name}/parameters.json\"))"
   ]
  },
  {
   "cell_type": "code",
   "execution_count": null,
   "metadata": {},
   "outputs": [],
   "source": [
    "import matplotlib.pyplot as plt \n",
    "\n",
    "from experiments.car_on_hill import COLORS\n",
    "\n",
    "\n",
    "plt.rc(\"font\", size=15)\n",
    "plt.rc(\"lines\", linewidth=3)\n",
    "\n",
    "table_indexes = [1, 6, 11, 16, 20]\n",
    "table = {\"K\": []}\n",
    "for letter in [\"Q\", \"w\"]:\n",
    "    for idx in table_indexes:\n",
    "        table[f\"i = {idx}, {letter}\"] = []\n",
    "\n",
    "for idx_bellman_iterations_scope, bellman_iterations_scope in enumerate(bellman_iterations_scopes):\n",
    "    diff_weights_seeds = []\n",
    "    for seed in seeds:\n",
    "        diff_weights_seeds.append(np.load(f\"figures/{experiment_name}/iFQI_linear/{bellman_iterations_scope}_distance_w_s{seed}.npy\"))\n",
    "\n",
    "    diff_weights = np.array(diff_weights_seeds).mean(axis=0)\n",
    "    # high_weights = np.array(diff_weights_seeds).max(axis=0)\n",
    "    # low_weights = np.array(diff_weights_seeds).min(axis=0)\n",
    "\n",
    "    frozen_line = p[\"n_bellman_iterations\"] - bellman_iterations_scope + 1\n",
    "    plt.plot(range(1, frozen_line + 1), diff_weights[1: frozen_line + 1], label=f\"K={bellman_iterations_scope}\", c=COLORS[str(bellman_iterations_scope)])\n",
    "    plt.plot(range(frozen_line, p[\"n_bellman_iterations\"] + 1), diff_weights[frozen_line:], linestyle=\"dotted\", c=COLORS[str(bellman_iterations_scope)])\n",
    "    # plt.fill_between(range(1, p[\"n_bellman_iterations\"] + 1), low_weights[1:], high_weights[1:], alpha=0.3)\n",
    "\n",
    "    table[\"K\"].append(bellman_iterations_scope)\n",
    "    [table[f\"i = {idx}, w\"].append(diff_weights[idx]) for idx in table_indexes]\n",
    "\n",
    "\n",
    "\n",
    "plt.xticks(range(1, p[\"n_bellman_iterations\"] + 1, 3))\n",
    "plt.xlabel(\"#Iteration k\")\n",
    "plt.ylabel(r\"$|| \\overline{\\theta}_k - \\theta_k ||_2$\")\n",
    "plt.title(\"Car-On-Hill\")\n",
    "plt.legend().set_zorder(3)\n",
    "plt.grid(zorder=0)\n",
    "# _ = plt.savefig(f\"figures/{experiment_name}/distance_to_optimal_Q.pdf\", bbox_inches='tight')"
   ]
  },
  {
   "cell_type": "code",
   "execution_count": null,
   "metadata": {},
   "outputs": [],
   "source": [
    "for idx_bellman_iterations_scope, bellman_iterations_scope in enumerate(bellman_iterations_scopes):\n",
    "    diff_q_values_seeds = []\n",
    "    for seed in seeds:\n",
    "        diff_q_values_seeds.append(np.load(f\"figures/{experiment_name}/iFQI_linear/{bellman_iterations_scope}_distance_Q_s{seed}.npy\"))\n",
    "\n",
    "    diff_q_values = np.array(diff_q_values_seeds).mean(axis=0)\n",
    "\n",
    "    frozen_line = p[\"n_bellman_iterations\"] - bellman_iterations_scope + 1\n",
    "    plt.plot(range(1, frozen_line + 1), diff_q_values[1: frozen_line + 1], label=f\"K={bellman_iterations_scope}\", c=COLORS[str(bellman_iterations_scope)])\n",
    "    plt.plot(range(frozen_line, p[\"n_bellman_iterations\"] + 1), diff_q_values[frozen_line:], linestyle=\"dotted\", c=COLORS[str(bellman_iterations_scope)])\n",
    "\n",
    "    [table[f\"i = {idx}, Q\"].append(diff_q_values[idx]) for idx in table_indexes]\n",
    "\n",
    "plt.xticks(range(1, p[\"n_bellman_iterations\"] + 1, 3))\n",
    "plt.xlabel(\"#Iteration k\")\n",
    "plt.ylabel(r\"$|| Q^* - Q_{\\theta_k}||_2$\")\n",
    "plt.title(\"Car-On-Hill\")\n",
    "plt.legend().set_zorder(3)\n",
    "plt.grid(zorder=0)\n",
    "# _ = plt.savefig(f\"figures/{experiment_name}/distance_to_optimal_Q.pdf\", bbox_inches='tight')"
   ]
  },
  {
   "cell_type": "code",
   "execution_count": null,
   "metadata": {},
   "outputs": [],
   "source": [
    "import pandas as pd \n",
    "\n",
    "pd.DataFrame(table).round(2).T"
   ]
  }
 ],
 "metadata": {
  "kernelspec": {
   "display_name": "env",
   "language": "python",
   "name": "python3"
  },
  "language_info": {
   "codemirror_mode": {
    "name": "ipython",
    "version": 3
   },
   "file_extension": ".py",
   "mimetype": "text/x-python",
   "name": "python",
   "nbconvert_exporter": "python",
   "pygments_lexer": "ipython3",
   "version": "3.10.13"
  }
 },
 "nbformat": 4,
 "nbformat_minor": 2
}
