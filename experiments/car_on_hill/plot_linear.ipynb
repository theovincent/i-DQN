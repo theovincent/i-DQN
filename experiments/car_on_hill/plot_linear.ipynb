{
 "cells": [
  {
   "cell_type": "code",
   "execution_count": null,
   "metadata": {},
   "outputs": [],
   "source": [
    "%load_ext autoreload\n",
    "%autoreload 2\n",
    "\n",
    "import json\n",
    "import numpy as np\n",
    "\n",
    "experiment_name = \"N50000_t100_b500_lr1_5\" \n",
    "bellman_iterations_scopes = [1, 2, 5, 10, 20]\n",
    "seeds = [int(f\"1{idx}\") for idx in range(1, 21)]\n",
    "\n",
    "p = json.load(open(f\"figures/{experiment_name}/parameters.json\"))"
   ]
  },
  {
   "cell_type": "code",
   "execution_count": null,
   "metadata": {},
   "outputs": [],
   "source": [
    "import matplotlib.pyplot as plt \n",
    "\n",
    "\n",
    "plt.rc(\"font\", size=15)\n",
    "plt.rc(\"lines\", linewidth=3)\n",
    "\n",
    "\n",
    "for idx_bellman_iterations_scope, bellman_iterations_scope in enumerate(bellman_iterations_scopes):\n",
    "    diff_weights_seeds = []\n",
    "    for seed in seeds:\n",
    "        diff_weights_seeds.append(np.load(f\"figures/{experiment_name}/iFQI_linear/{bellman_iterations_scope}_distance_w_s{seed}.npy\"))\n",
    "\n",
    "    diff_weights = np.array(diff_weights_seeds).mean(axis=0)\n",
    "\n",
    "    plt.plot(range(1, p[\"n_bellman_iterations\"] + 1), diff_weights[1:], label=f\"K={bellman_iterations_scope}\")\n",
    "\n",
    "plt.xticks(range(1, p[\"n_bellman_iterations\"] + 1, 3))\n",
    "plt.xlabel(\"#Iteration i\")\n",
    "plt.ylabel(r\"$|| w_i^* - w_i^K ||_2$\")\n",
    "plt.title(\"Car-On-Hill\")\n",
    "plt.legend().set_zorder(3)\n",
    "plt.grid(zorder=0)\n",
    "# _ = plt.savefig(f\"figures/{experiment_name}/distance_to_optimal_Q.pdf\", bbox_inches='tight')"
   ]
  },
  {
   "cell_type": "code",
   "execution_count": null,
   "metadata": {},
   "outputs": [],
   "source": [
    "for idx_bellman_iterations_scope, bellman_iterations_scope in enumerate(bellman_iterations_scopes):\n",
    "    diff_q_values_seeds = []\n",
    "    for seed in seeds:\n",
    "        diff_q_values_seeds.append(np.load(f\"figures/{experiment_name}/iFQI_linear/{bellman_iterations_scope}_distance_Q_s{seed}.npy\"))\n",
    "\n",
    "    diff_q_values = np.array(diff_q_values_seeds).mean(axis=0)\n",
    "\n",
    "    plt.plot(range(1, p[\"n_bellman_iterations\"] + 1), diff_q_values[1:] / 50000 * 17 * 17, label=f\"K={bellman_iterations_scope}\")\n",
    "\n",
    "plt.xticks(range(1, p[\"n_bellman_iterations\"] + 1, 3))\n",
    "plt.xlabel(\"#Iteration i\")\n",
    "plt.ylabel(r\"$|| Q^* - Q_i^K ||_2$\")\n",
    "plt.title(\"Car-On-Hill\")\n",
    "plt.legend().set_zorder(3)\n",
    "plt.grid(zorder=0)\n",
    "# _ = plt.savefig(f\"figures/{experiment_name}/distance_to_optimal_Q.pdf\", bbox_inches='tight')"
   ]
  }
 ],
 "metadata": {
  "kernelspec": {
   "display_name": "env",
   "language": "python",
   "name": "python3"
  },
  "language_info": {
   "codemirror_mode": {
    "name": "ipython",
    "version": 3
   },
   "file_extension": ".py",
   "mimetype": "text/x-python",
   "name": "python",
   "nbconvert_exporter": "python",
   "pygments_lexer": "ipython3",
   "version": "3.10.13"
  }
 },
 "nbformat": 4,
 "nbformat_minor": 2
}
