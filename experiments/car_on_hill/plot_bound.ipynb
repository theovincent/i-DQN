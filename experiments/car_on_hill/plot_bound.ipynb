{
 "cells": [
  {
   "cell_type": "code",
   "execution_count": null,
   "metadata": {},
   "outputs": [],
   "source": [
    "%load_ext autoreload\n",
    "%autoreload 2\n",
    "\n",
    "import json\n",
    "import numpy as np\n",
    "import pandas as pd\n",
    "\n",
    "experiment_name = \"bound_r20_b50_N5500_lr03_a50\" # \"bound_r150_b50_N5500_lr03_a50\"\n",
    "bellman_iterations_scopes = [1, 5, 10, 20]\n",
    "seed = 11\n",
    "\n",
    "p = json.load(open(f\"figures/{experiment_name}/parameters.json\"))"
   ]
  },
  {
   "cell_type": "code",
   "execution_count": null,
   "metadata": {},
   "outputs": [],
   "source": [
    "import math \n",
    "import jax\n",
    "\n",
    "from idqn.networks.architectures.ifqi import CarOnHilliFQI\n",
    "from idqn.environments.car_on_hill import CarOnHillEnv\n",
    "from idqn.utils.pickle import load_pickled_data\n",
    "from experiments.car_on_hill.utils import TwoDimesionsMesh\n",
    "\n",
    "env = CarOnHillEnv(p[\"gamma\"])\n",
    "states_x = np.linspace(-env.max_position, env.max_position, p[\"n_states_x\"])\n",
    "states_v = np.linspace(-env.max_velocity, env.max_velocity, p[\"n_states_v\"])\n",
    "\n",
    "\n",
    "q_values = np.ones((len(bellman_iterations_scopes), p[\"n_bellman_iterations\"], p[\"n_states_x\"], p[\"n_states_v\"], 2))\n",
    "q_diff_values = np.ones((len(bellman_iterations_scopes), p[\"n_bellman_iterations\"], p[\"n_states_x\"], p[\"n_states_v\"]))\n",
    "performances = np.zeros(len(bellman_iterations_scopes))\n",
    "\n",
    "for idx_bellman_iterations_scope, bellman_iterations_scope in enumerate(bellman_iterations_scopes):\n",
    "    q = CarOnHilliFQI(\n",
    "        bellman_iterations_scope + 1,\n",
    "        p[\"features\"],\n",
    "        (2,),\n",
    "        env.n_actions,\n",
    "        math.pow(p[\"gamma\"], p[\"n_step_return\"]),\n",
    "        jax.random.PRNGKey(0),\n",
    "        p[\"learning_rate\"],\n",
    "        p[\"optimizer_eps\"],\n",
    "    )\n",
    "\n",
    "    for idx_bellman_iteration in range(p[\"n_bellman_iterations\"] - bellman_iterations_scope):\n",
    "        q.params = load_pickled_data(f\"figures/{experiment_name}/iFQI/{bellman_iterations_scope}_Q_s{seed}_r{idx_bellman_iteration}_online_params\")\n",
    "\n",
    "        q_values[idx_bellman_iterations_scope, idx_bellman_iteration] = env.q_estimate_mesh(q, jax.tree_map(lambda param: param[0][None], q.params), states_x, states_v)\n",
    "        q_diff_values[idx_bellman_iterations_scope, idx_bellman_iteration] = env.diff_q_estimate_mesh(q, jax.tree_map(lambda param: param[0][None], q.params), states_x, states_v)\n",
    "\n",
    "    q.params = load_pickled_data(f\"figures/{experiment_name}/iFQI/{bellman_iterations_scope}_Q_s{seed}_r{p['n_bellman_iterations'] - bellman_iterations_scope}_online_params\")\n",
    "\n",
    "    for idx_in_params, idx_bellman_iteration in enumerate(range(p[\"n_bellman_iterations\"] - bellman_iterations_scope, p[\"n_bellman_iterations\"])):\n",
    "        q_values[idx_bellman_iterations_scope, idx_bellman_iteration] = env.q_estimate_mesh(q, jax.tree_map(lambda param: param[idx_in_params][None], q.params), states_x, states_v)\n",
    "        q_diff_values[idx_bellman_iterations_scope, idx_bellman_iteration] = env.diff_q_estimate_mesh(q, jax.tree_map(lambda param: param[idx_in_params][None], q.params), states_x, states_v)\n",
    "    \n",
    "    performances[idx_bellman_iterations_scope] = env.evaluate(q, jax.tree_map(lambda param: param[-1][None], q.params), p[\"horizon\"], np.array([-0.5, 0]))"
   ]
  },
  {
   "cell_type": "code",
   "execution_count": null,
   "metadata": {},
   "outputs": [],
   "source": [
    "import matplotlib.pyplot as plt \n",
    "\n",
    "\n",
    "plt.rc(\"font\", size=15)\n",
    "plt.rc(\"lines\", linewidth=3)\n",
    "\n",
    "\n",
    "optimal_q = np.load(f\"figures/data/optimal/Q.npy\")\n",
    "samples_mask = np.load(f\"figures/data/samples_count.npy\")\n",
    "samples_mask_q_format = np.repeat(samples_mask[:, :, None], 2, axis=-1)\n",
    "\n",
    "for idx_bellman_iterations_scope, bellman_iterations_scope in enumerate(bellman_iterations_scopes):\n",
    "    plt.plot(np.sqrt(np.mean(np.square(q_values[idx_bellman_iterations_scope] - optimal_q) * samples_mask_q_format, axis=(1, 2, 3))), label=f\"K={bellman_iterations_scope}\")\n",
    "\n",
    "plt.xticks(range(0, p[\"n_bellman_iterations\"], 3))\n",
    "plt.xlabel(\"#Iterations\")\n",
    "plt.title(r\"$|| Q^* - Q_i ||_2$\")\n",
    "plt.legend().set_zorder(3)\n",
    "plt.grid(zorder=0)\n",
    "# _ = plt.savefig(f\"figures/{experiment_name}/distance_to_optimal_Q.pdf\", bbox_inches='tight')"
   ]
  },
  {
   "cell_type": "code",
   "execution_count": null,
   "metadata": {},
   "outputs": [],
   "source": [
    "q_visu_mesh = TwoDimesionsMesh(states_x, states_v, axis_equal=False, zero_centered=True)\n",
    "\n",
    "for idx_bellman_iterations_scope, bellman_iterations_scope in enumerate(bellman_iterations_scopes):\n",
    "    k = -1\n",
    "    title = r\"$\\pi^K_k$\" + f\" for K = {bellman_iterations_scope} at k = {k}\\n\"\n",
    "    title += f\"performance {np.around(performances[idx_bellman_iterations_scope], 2)}\"\n",
    "\n",
    "    q_visu_mesh.set_values((q_diff_values[idx_bellman_iterations_scope, k] > 0).astype(float))\n",
    "    q_visu_mesh.show(title, xlabel=\"x\", ylabel=\"y\", ticks_freq=3)"
   ]
  },
  {
   "cell_type": "code",
   "execution_count": null,
   "metadata": {},
   "outputs": [],
   "source": [
    "# for idx_bellman_iterations_scope, bellman_iterations_scope in enumerate(bellman_iterations_scopes):\n",
    "#     bound_info = np.load(f\"figures/{experiment_name}/iFQI/{bellman_iterations_scope}_bound_info_s{seed}.npy\")\n",
    "\n",
    "#     print(\n",
    "#         \"Number of time where the condition is satisfied\", \n",
    "#         np.sum(bound_info[:, 0] >= 0)\n",
    "#     )\n",
    "#     print(\n",
    "#         \"Average index when the condition is satisfied\", \n",
    "#         np.around(np.arange(bound_info.shape[0])[bound_info[:, 0] >= 0].mean(), 1)\n",
    "#     )\n",
    "#     print(\n",
    "#         \"Number of time where the condition is satisfied and the approx error has increased\", \n",
    "#         np.sum(np.logical_and(bound_info[:, 0] >= 0, bound_info[:, 1] < 0))\n",
    "#     )\n",
    "\n",
    "#     # pd.DataFrame(bound_info, columns=[\"condition\", \"approximation error loss\"])"
   ]
  }
 ],
 "metadata": {
  "kernelspec": {
   "display_name": "env",
   "language": "python",
   "name": "python3"
  },
  "language_info": {
   "codemirror_mode": {
    "name": "ipython",
    "version": 3
   },
   "file_extension": ".py",
   "mimetype": "text/x-python",
   "name": "python",
   "nbconvert_exporter": "python",
   "pygments_lexer": "ipython3",
   "version": "3.10.13"
  }
 },
 "nbformat": 4,
 "nbformat_minor": 2
}
