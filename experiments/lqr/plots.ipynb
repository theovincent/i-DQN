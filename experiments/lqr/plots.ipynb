{
 "cells": [
  {
   "cell_type": "markdown",
   "metadata": {},
   "source": [
    "## Short example of the advantage of iDQN over DQN"
   ]
  },
  {
   "cell_type": "markdown",
   "metadata": {},
   "source": [
    "### Define the environment"
   ]
  },
  {
   "cell_type": "code",
   "execution_count": null,
   "metadata": {},
   "outputs": [],
   "source": [
    "from idqn.environments.lqr import LinearQuadraticEnv\n",
    "import numpy as np\n",
    "\n",
    "env = LinearQuadraticEnv(A=0.8, B=-0.9, Q=-0.5, R=-0.5, S=0.2)\n",
    "print(\"P:\", env.P)\n",
    "print(\"Optimal M:\", env.optimal_weights[2], \"Optimal G:\", env.optimal_weights[0])\n",
    "max_g = np.abs(env.optimal_weights[0] / 2)\n",
    "min_m = 2 * env.optimal_weights[2]  # always negative\n",
    "initial_point = np.array([0.5 * env.optimal_weights[2], -max_g / 2])"
   ]
  },
  {
   "cell_type": "markdown",
   "metadata": {},
   "source": [
    "### Compute the optimal itertaions"
   ]
  },
  {
   "cell_type": "code",
   "execution_count": null,
   "metadata": {},
   "outputs": [],
   "source": [
    "def optimal_bellman_iteration(point):\n",
    "    return np.array([env.R + env.B ** 2 * point[1], env.Q + env.A ** 2 * point[1]])\n",
    "\n",
    "def projection(point):\n",
    "    return np.array([min(point[0], 0), np.clip(point[1], -max_g, max_g)])\n",
    "\n",
    "def bellman_line(m):\n",
    "    return env.Q - env.R * env.A ** 2 / env.B ** 2 + env.A ** 2 / env.B ** 2 * m"
   ]
  },
  {
   "cell_type": "markdown",
   "metadata": {},
   "source": [
    "### Run DQN and iDQN (offline)"
   ]
  },
  {
   "cell_type": "code",
   "execution_count": null,
   "metadata": {},
   "outputs": [],
   "source": [
    "import jax\n",
    "import jax.numpy as jnp\n",
    "\n",
    "def Q(params, s, a):\n",
    "    return params[\"G\"] * s ** 2 + params[\"M\"] * a ** 2\n",
    "\n",
    "def loss_dqn(params, target_params, batch_s, batch_a):\n",
    "    prediction = Q(params, batch_s, batch_a)\n",
    "\n",
    "    batch_s_prime = env.A * batch_s + env.B * batch_a\n",
    "    batch_reward = env.Q * batch_s ** 2 + 2 * env.S * batch_s * batch_a + env.R * batch_a ** 2\n",
    "    target = batch_reward + target_params[\"G\"] * batch_s_prime ** 2\n",
    "\n",
    "    return jnp.square(prediction - target).mean()\n",
    "\n",
    "def loss_idqn(params, target_params, batch_s, batch_a):\n",
    "    return loss_dqn(params[\"params_1\"], target_params[\"params_0\"], batch_s, batch_a) + loss_dqn(params[\"params_2\"], target_params[\"params_1\"], batch_s, batch_a)\n",
    "\n",
    "\n",
    "gradient_steps = 30\n",
    "lr = 0.05\n",
    "samples = jnp.linspace(0, jnp.pi, 10)\n",
    "batch_s = jnp.cos(samples)\n",
    "batch_a = jnp.sin(samples)\n",
    "dqn_params = {\"M\": initial_point[0], \"G\": initial_point[1]}\n",
    "target_dqn_params = {\"M\": initial_point[0], \"G\": initial_point[1]}\n",
    "idqn_params = {\"params_0\": dqn_params, \"params_1\": dqn_params, \"params_2\": dqn_params}\n",
    "target_idqn_params = {\"params_0\": dqn_params, \"params_1\": dqn_params, \"params_2\": dqn_params}\n",
    "\n",
    "project_params = lambda params: {\"M\": min(params[\"M\"], 0), \"G\": np.clip(params[\"G\"], -max_g, max_g)}\n",
    "\n",
    "for g in range(gradient_steps):\n",
    "    grad_dqn = jax.grad(loss_dqn)(dqn_params, target_dqn_params, batch_s, batch_a)\n",
    "    dqn_params = jax.tree_map(lambda x, y: x - lr * y, dqn_params, grad_dqn)\n",
    "    dqn_params = project_params(dqn_params)\n",
    "    \n",
    "    grad_idqn = jax.grad(loss_idqn)(idqn_params, target_idqn_params, batch_s, batch_a)\n",
    "    idqn_params = jax.tree_map(lambda x, y: x - lr * y, idqn_params, grad_idqn)\n",
    "    idqn_params[\"params_0\"] = project_params(idqn_params[\"params_0\"])\n",
    "    idqn_params[\"params_1\"] = project_params(idqn_params[\"params_1\"])\n",
    "    idqn_params[\"params_2\"] = project_params(idqn_params[\"params_2\"])\n",
    "    target_idqn_params = idqn_params  # update the target parameters\n",
    "\n",
    "extract_point = lambda params: np.array([params[\"M\"], params[\"G\"]])\n",
    "dqn_point = extract_point(dqn_params)\n",
    "idqn_point_1 = extract_point(idqn_params[\"params_1\"])\n",
    "idqn_point_2 = extract_point(idqn_params[\"params_2\"])"
   ]
  },
  {
   "cell_type": "markdown",
   "metadata": {},
   "source": [
    "### Plot results of DQN and iDQN"
   ]
  },
  {
   "cell_type": "code",
   "execution_count": null,
   "metadata": {},
   "outputs": [],
   "source": [
    "import matplotlib.pyplot as plt\n",
    "\n",
    "dqn_color = \"#e41a1c\"\n",
    "idqn_color = \"#377eb8\"\n",
    "\n",
    "n_points = 10\n",
    "ms = np.linspace(min_m, 0, n_points)\n",
    "\n",
    "# Optimal point\n",
    "plt.scatter(env.optimal_weights[2], env.optimal_weights[0], color=\"black\", s=50)\n",
    "plt.text(-0.05 + env.optimal_weights[2], env.optimal_weights[0], \"$Q^*$\", fontsize=20)\n",
    "\n",
    "# Allowed parameter space\n",
    "plt.plot(ms, np.ones(n_points) * max_g, color=\"black\")\n",
    "plt.plot(ms, -np.ones(n_points) * max_g, color=\"black\")\n",
    "plt.fill_between(ms, -np.ones(n_points) * max_g, np.ones(n_points) * max_g, color=\"green\", alpha=0.3)\n",
    "plt.vlines(0, ymin=-max_g, ymax=max_g, color=\"black\")\n",
    "\n",
    "# Plot the first Bellman iteration and its projection\n",
    "plt.scatter(initial_point[0], initial_point[1], color=\"black\", s=50)\n",
    "plt.text(-0.09 + initial_point[0], initial_point[1], \"$Q_0$\", fontsize=20)\n",
    "x, y = initial_point[0], initial_point[1]\n",
    "first_iteration = optimal_bellman_iteration(initial_point)\n",
    "dx, dy = first_iteration[0] - x, first_iteration[1] - y\n",
    "plt.arrow(x, y, dx / 1.2, dy / 1.2, head_width = 0.02, color=\"black\")\n",
    "\n",
    "plt.scatter(first_iteration[0], first_iteration[1], color=\"black\", s=50)\n",
    "plt.text(first_iteration[0], -0.1 + first_iteration[1], f\"$\\Gamma^*Q_0$\", fontsize=20)\n",
    "\n",
    "first_projection = projection(first_iteration)\n",
    "x, y = first_projection[0], first_projection[1]\n",
    "dx, dy = first_iteration[0] - x, first_iteration[1] - y\n",
    "plt.arrow(x, y, dx, dy, color=\"black\", linestyle=\"dashed\")\n",
    "\n",
    "# Plot DQN point\n",
    "plt.scatter(dqn_point[0], dqn_point[1], color=dqn_color, s=200)\n",
    "plt.text(0.01 + dqn_point[0], 0.05 + dqn_point[1], \"$Q_1$\", color=dqn_color, fontsize=20)\n",
    "\n",
    "# Plot the first iDQN point\n",
    "plt.scatter(idqn_point_1[0], idqn_point_1[1], color=idqn_color, s=50)\n",
    "plt.text(-0.05 + idqn_point_1[0], 0.05 + idqn_point_1[1], \"$Q_1$\", color=idqn_color, fontsize=20)\n",
    "\n",
    "# Plot the second Bellman iteration and its projection from the first iDQN point\n",
    "x, y = idqn_point_1[0], idqn_point_1[1]\n",
    "second_iteration = optimal_bellman_iteration(idqn_point_1)\n",
    "dx, dy = second_iteration[0] - x, second_iteration[1] - y\n",
    "plt.arrow(x, y, dx / 1.2, dy / 1.2, head_width = 0.02, color=\"black\")\n",
    "\n",
    "plt.scatter(second_iteration[0], second_iteration[1], color=\"black\", s=50)\n",
    "plt.text(second_iteration[0], -0.03 + second_iteration[0], f\"$\\Gamma^*Q_1$\", fontsize=20)\n",
    "\n",
    "second_projection = projection(second_iteration)\n",
    "x, y = second_projection[0], second_projection[1]\n",
    "dx, dy = second_iteration[0] - x, second_iteration[1] - y\n",
    "plt.arrow(x, y, dx, dy, color=\"black\", linestyle=\"dashed\")\n",
    "\n",
    "plt.scatter(idqn_point_2[0], idqn_point_2[1], color=idqn_color, s=50)\n",
    "plt.text(-0.05 + idqn_point_2[0], 0.05 + idqn_point_2[1], \"$Q_2$\", color=idqn_color, fontsize=20)\n",
    "\n",
    "plt.text(-0.95, -0.2, \"DQN\", color=\"red\", fontsize=20)\n",
    "plt.text(-0.95, -0.1, \"iDQN, with K = 2\", color=idqn_color, fontsize=20)\n",
    "\n",
    "plt.xlim(-1, -0.25)\n",
    "plt.ylim(-1, 0)\n",
    "plt.savefig(\"pratical_example.pdf\", bbox_inches='tight')"
   ]
  }
 ],
 "metadata": {
  "kernelspec": {
   "display_name": "env",
   "language": "python",
   "name": "python3"
  },
  "language_info": {
   "codemirror_mode": {
    "name": "ipython",
    "version": 3
   },
   "file_extension": ".py",
   "mimetype": "text/x-python",
   "name": "python",
   "nbconvert_exporter": "python",
   "pygments_lexer": "ipython3",
   "version": "3.10.12"
  },
  "orig_nbformat": 4
 },
 "nbformat": 4,
 "nbformat_minor": 2
}
